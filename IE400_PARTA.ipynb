{
 "cells": [
  {
   "cell_type": "code",
   "execution_count": 1,
   "metadata": {},
   "outputs": [],
   "source": [
    "import pyomo.environ as pyEnv\n",
    "import pandas as pd\n",
    "import numpy as np\n",
    "import matplotlib.pyplot as plt\n",
    "import matplotlib.patches as patches\n",
    "import xlrd\n",
    "from itertools import product\n",
    "from sys import stdout as out\n",
    "import sys"
   ]
  },
  {
   "cell_type": "code",
   "execution_count": 2,
   "metadata": {},
   "outputs": [],
   "source": [
    "#Get data\n",
    "file_path = 'data.xlsx'\n",
    "df = pd.read_excel(file_path)\n",
    "wb = xlrd.open_workbook(file_path) \n",
    "d = np.zeros((30,30))\n",
    "p = np.zeros((30,30))\n",
    "xc = np.zeros((4))\n",
    "sheet_d = wb.sheet_by_index(0) \n",
    "sheet_p = wb.sheet_by_index(1)\n",
    "for i in range(30):\n",
    "    for j in range(30):\n",
    "        d[i][j] = sheet_d.cell_value(i, j)\n",
    "        p[i][j] = sheet_p.cell_value(i, j)\n",
    "        \n",
    "\n",
    "#UNCOMMENT FOR PART B\n",
    "#for i in range(30):\n",
    "#    for j in range(30):\n",
    "#        if p[i][j] > 0.6:\n",
    "#            d[i][j] = sys.maxsize\n"
   ]
  },
  {
   "cell_type": "code",
   "execution_count": 3,
   "metadata": {},
   "outputs": [],
   "source": [
    "n = 30\n",
    "#Model\n",
    "model = pyEnv.ConcreteModel()\n",
    "#Indexes for the cities\n",
    "model.M = pyEnv.RangeSet(1,n)\n",
    "model.N = pyEnv.RangeSet(1,n)\n",
    "#Decision Variables xij\n",
    "model.x = pyEnv.Var(model.N,model.M, within=pyEnv.Binary)\n",
    "\n",
    "#Decision Variables yj\n",
    "model.y = pyEnv.Var(model.M, within=pyEnv.Binary)\n",
    "\n",
    "#dummy variable f\n",
    "model.f = pyEnv.Var()\n",
    "\n",
    "#Cost matrix dij\n",
    "model.c = pyEnv.Param(model.N, model.M,initialize=lambda model, i, j: d[i-1][j-1])"
   ]
  },
  {
   "cell_type": "code",
   "execution_count": 4,
   "metadata": {},
   "outputs": [],
   "source": [
    "model.O_f1 = pyEnv.Objective(expr= model.f  , sense=pyEnv.minimize)\n"
   ]
  },
  {
   "cell_type": "code",
   "execution_count": 5,
   "metadata": {},
   "outputs": [],
   "source": [
    " #Define Constraints\n",
    "    \n",
    "def rule_const0(model, N, M):\n",
    "    return model.f >= model.x[N,M]*model.c[N,M]\n",
    "\n",
    "model.const0 = pyEnv.Constraint(model.N,model.M,rule=rule_const0)\n",
    "    \n",
    "    \n",
    "def rule_const1(model):\n",
    "    return sum(model.y[j] for j in model.N) == 4\n",
    "\n",
    "model.const1 = pyEnv.Constraint(rule=rule_const1)\n",
    "\n",
    "def rule_const2(model, N):\n",
    "    return sum(model.x[N, j] for j in model.N) == 1\n",
    "\n",
    "model.const2 = pyEnv.Constraint(model.N,rule=rule_const2)\n",
    "\n",
    "def rule_const3(model, N, M):\n",
    "    return model.y[M] >= model.x[N,M]\n",
    "\n",
    "model.const3 = pyEnv.Constraint(model.N,model.M,rule=rule_const3)\n",
    "\n"
   ]
  },
  {
   "cell_type": "code",
   "execution_count": 6,
   "metadata": {},
   "outputs": [],
   "source": [
    "#model.pprint()"
   ]
  },
  {
   "cell_type": "code",
   "execution_count": 7,
   "metadata": {},
   "outputs": [
    {
     "name": "stdout",
     "output_type": "stream",
     "text": [
      "\n",
      "Problem: \n",
      "- Name: tmp6v55arcg\n",
      "  Lower bound: 50.5\n",
      "  Upper bound: 50.5\n",
      "  Number of objectives: 1\n",
      "  Number of constraints: 1832\n",
      "  Number of variables: 932\n",
      "  Number of nonzeros: 4501\n",
      "  Sense: minimize\n",
      "Solver: \n",
      "- Status: ok\n",
      "  User time: 0.44\n",
      "  Termination condition: optimal\n",
      "  Termination message: MIP - Integer optimal solution\\x3a Objective = 5.0500000000e+01\n",
      "  Statistics: \n",
      "    Branch and bound: \n",
      "      Number of bounded subproblems: 0\n",
      "      Number of created subproblems: 0\n",
      "  Error rc: 0\n",
      "  Time: 0.4657094478607178\n",
      "Solution: \n",
      "- number of solutions: 0\n",
      "  number of solutions displayed: 0\n",
      "\n"
     ]
    }
   ],
   "source": [
    "#Solves\n",
    "solver = pyEnv.SolverFactory('cplex')\n",
    "result = solver.solve(model)\n",
    "\n",
    "#Prints the results\n",
    "print(result)"
   ]
  },
  {
   "cell_type": "code",
   "execution_count": 8,
   "metadata": {},
   "outputs": [
    {
     "name": "stdout",
     "output_type": "stream",
     "text": [
      "Center Villages: 15 19 24 30 \n",
      "\n",
      "Villages that goes to  15 : 4 6 7 8 9 10 14 \n",
      "\n",
      "Villages that goes to  19 : 5 11 12 16 20 23 25 26 28 \n",
      "\n",
      "Villages that goes to  24 : 13 29 \n",
      "\n",
      "Villages that goes to  30 : 1 2 3 17 18 21 22 27 "
     ]
    }
   ],
   "source": [
    "print(\"Center Villages: \", end=\"\")\n",
    "for i in range(1,31):\n",
    "    if pyEnv.value(model.y[i]) == 1:\n",
    "        print(i, end=\" \")\n",
    "\n",
    "for i in range(1,31):\n",
    "    if pyEnv.value(model.y[i]) == 1:\n",
    "        print(\"\\n\\nVillages that goes to \", i, \": \", end=\"\")\n",
    "    for j in range(1,31):\n",
    "        if pyEnv.value(model.x[j,i]) == 1 and i != j:\n",
    "            print(j, end=\" \")"
   ]
  },
  {
   "cell_type": "code",
   "execution_count": null,
   "metadata": {},
   "outputs": [],
   "source": []
  }
 ],
 "metadata": {
  "kernelspec": {
   "display_name": "Python 3",
   "language": "python",
   "name": "python3"
  },
  "language_info": {
   "codemirror_mode": {
    "name": "ipython",
    "version": 3
   },
   "file_extension": ".py",
   "mimetype": "text/x-python",
   "name": "python",
   "nbconvert_exporter": "python",
   "pygments_lexer": "ipython3",
   "version": "3.6.12"
  }
 },
 "nbformat": 4,
 "nbformat_minor": 2
}
