{
 "cells": [
  {
   "cell_type": "code",
   "execution_count": 1,
   "metadata": {},
   "outputs": [],
   "source": [
    "import pandas as pd\n",
    "import numpy as np\n",
    "import matplotlib.pyplot as plt\n",
    "import matplotlib.patches as patches\n",
    "import xlrd\n",
    "from itertools import product\n",
    "from sys import stdout as out\n",
    "from mip import Model, xsum, minimize, BINARY"
   ]
  },
  {
   "cell_type": "code",
   "execution_count": 2,
   "metadata": {},
   "outputs": [],
   "source": [
    "file_path = 'data.xlsx'\n",
    "df = pd.read_excel(file_path)\n",
    "wb = xlrd.open_workbook(file_path) \n",
    "d = np.zeros((30,30))\n",
    "p = np.zeros((30,30))\n",
    "xc = np.zeros((4))\n",
    "sheet_d = wb.sheet_by_index(0) \n",
    "sheet_p = wb.sheet_by_index(1)\n",
    "for i in range(30):\n",
    "    for j in range(30):\n",
    "        d[i][j] = sheet_d.cell_value(i, j)\n",
    "        p[i][j] = sheet_p.cell_value(i, j)\n",
    "        "
   ]
  },
  {
   "cell_type": "code",
   "execution_count": 3,
   "metadata": {},
   "outputs": [],
   "source": [
    "# number of nodes and list of vertices\n",
    "n, V = len(d), set(range(len(d)))\n",
    "\n",
    "places = list(range(1, n+1))"
   ]
  },
  {
   "cell_type": "code",
   "execution_count": 4,
   "metadata": {},
   "outputs": [],
   "source": [
    "c = d"
   ]
  },
  {
   "cell_type": "code",
   "execution_count": 5,
   "metadata": {},
   "outputs": [],
   "source": [
    "for i in range(30):\n",
    "    for j in range(30):\n",
    "        if p[i][j] >= 0.6:\n",
    "            c[i][j] = 1000\n",
    "            "
   ]
  },
  {
   "cell_type": "code",
   "execution_count": 6,
   "metadata": {},
   "outputs": [
    {
     "name": "stdout",
     "output_type": "stream",
     "text": [
      "route with total distance 1115 found: 1 -> 21 -> 11 -> 19 -> 26 -> 10 -> 2 -> 24 -> 29 -> 8 -> 7 -> 15 -> 3 -> 4 -> 23 -> 20 -> 5 -> 6 -> 28 -> 12 -> 16 -> 22 -> 18 -> 13 -> 9 -> 27 -> 25 -> 14 -> 17 -> 30 -> 1\n"
     ]
    }
   ],
   "source": [
    "model = Model()\n",
    "\n",
    "# binary variables indicating if arc (i,j) is used on the route or not\n",
    "x = [[model.add_var(var_type=BINARY) for j in V] for i in V]\n",
    "\n",
    "# continuous variable to prevent subtours: each city will have a\n",
    "# different sequential id in the planned route except the first one\n",
    "y = [model.add_var() for i in V]\n",
    "\n",
    "# objective function: minimize the distance\n",
    "model.objective = minimize(xsum(c[i][j]*x[i][j] for i in V for j in V))\n",
    "\n",
    "# constraint : leave each city only once\n",
    "for i in V:\n",
    "    model += xsum(x[i][j] for j in V - {i}) == 1\n",
    "\n",
    "# constraint : enter each city only once\n",
    "for i in V:\n",
    "    model += xsum(x[j][i] for j in V - {i}) == 1\n",
    "\n",
    "# subtour elimination\n",
    "for (i, j) in product(V - {0}, V - {0}):\n",
    "    if i != j:\n",
    "        model += y[i] - (n+1)*x[i][j] >= y[j]-n\n",
    "\n",
    "# optimizing\n",
    "model.optimize()\n",
    "\n",
    "# checking if a solution was found\n",
    "if model.num_solutions:\n",
    "    out.write('route with total distance %g found: %s'\n",
    "              % (model.objective_value, places[0]))\n",
    "    nc = 0\n",
    "    while True:\n",
    "        nc = [i for i in V if x[nc][i].x >= 0.99][0]\n",
    "        out.write(' -> %s' % places[nc])\n",
    "        if nc == 0:\n",
    "            break\n",
    "    out.write('\\n')\n",
    "\n",
    "# sanity tests\n",
    "from mip import OptimizationStatus\n",
    "assert model.status == OptimizationStatus.OPTIMAL\n",
    "model.check_optimization_results()"
   ]
  },
  {
   "cell_type": "code",
   "execution_count": null,
   "metadata": {},
   "outputs": [],
   "source": []
  },
  {
   "cell_type": "code",
   "execution_count": null,
   "metadata": {},
   "outputs": [],
   "source": []
  }
 ],
 "metadata": {
  "kernelspec": {
   "display_name": "Python 3",
   "language": "python",
   "name": "python3"
  },
  "language_info": {
   "codemirror_mode": {
    "name": "ipython",
    "version": 3
   },
   "file_extension": ".py",
   "mimetype": "text/x-python",
   "name": "python",
   "nbconvert_exporter": "python",
   "pygments_lexer": "ipython3",
   "version": "3.6.12"
  }
 },
 "nbformat": 4,
 "nbformat_minor": 4
}
